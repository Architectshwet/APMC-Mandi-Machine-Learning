{
 "cells": [
  {
   "cell_type": "code",
   "execution_count": 1,
   "metadata": {
    "_uuid": "f3cab41463066d61b7b6e5d8334f147a902bc5ae"
   },
   "outputs": [
    {
     "name": "stderr",
     "output_type": "stream",
     "text": [
      "Using TensorFlow backend.\n"
     ]
    }
   ],
   "source": [
    "import warnings\n",
    "warnings.filterwarnings(\"ignore\")\n",
    "\n",
    "# loading packages\n",
    "# basic + dates \n",
    "import numpy as np\n",
    "import pandas as pd\n",
    "from pandas import datetime\n",
    "\n",
    "# data visualization\n",
    "import matplotlib.pyplot as plt\n",
    "import seaborn as sns # advanced vizs\n",
    "%matplotlib inline\n",
    "\n",
    "\n",
    "from sklearn.metrics import mean_squared_error\n",
    "from math import sqrt\n",
    "\n",
    "from pandas import read_csv\n",
    "from pandas import datetime\n",
    "from pandas import DataFrame\n",
    "from pandas import concat\n",
    "from pandas import Series\n",
    "\n",
    "from keras.models import Sequential\n",
    "from keras.layers import Dense\n",
    "from keras.layers import LSTM\n",
    "from sklearn.preprocessing import MinMaxScaler\n",
    "from keras.layers import Dropout"
   ]
  },
  {
   "cell_type": "code",
   "execution_count": 2,
   "metadata": {
    "_cell_guid": "79c7e3d0-c299-4dcb-8224-4455121ee9b0",
    "_uuid": "d629ff2d2480ee46fbb7e2d37f6b5fab8052498a"
   },
   "outputs": [
    {
     "name": "stdout",
     "output_type": "stream",
     "text": [
      "            modal_price\n",
      "date_plus              \n",
      "2014-09-01         1575\n",
      "2014-11-01         1629\n",
      "2015-01-01         1618\n",
      "2015-02-01         1650\n",
      "2015-03-01         1525\n"
     ]
    }
   ],
   "source": [
    "series = pd.read_csv('../input/mon_trial_select.csv', engine='python', index_col=0, header=0)\n",
    "print(series.head())"
   ]
  },
  {
   "cell_type": "code",
   "execution_count": 3,
   "metadata": {
    "_uuid": "0b87190c1e2a548f64e12016453cc58729a30c00",
    "collapsed": true
   },
   "outputs": [],
   "source": [
    "DTTMFormat = '%Y-%m-%d'\n",
    "series.index = pd.to_datetime(series.index,format=DTTMFormat)"
   ]
  },
  {
   "cell_type": "code",
   "execution_count": 4,
   "metadata": {
    "_uuid": "a054c78772a7d2b08f47629311690c0c0a17434c",
    "collapsed": true
   },
   "outputs": [],
   "source": [
    "series = series.squeeze()"
   ]
  },
  {
   "cell_type": "code",
   "execution_count": 5,
   "metadata": {
    "_uuid": "c25a909a92faf191b552f3490ca7dc26e04d7052"
   },
   "outputs": [
    {
     "data": {
      "image/png": "[encoded data removed]",
      "text/plain": [
       "<Figure size 432x288 with 1 Axes>"
      ]
     },
     "metadata": {
      "needs_background": "light"
     },
     "output_type": "display_data"
    }
   ],
   "source": [
    "series.plot()\n",
    "plt.show()"
   ]
  },
  {
   "cell_type": "code",
   "execution_count": 6,
   "metadata": {
    "_uuid": "4a802f1433c76d6c50fd1ef04e5d1af8db308d18",
    "collapsed": true
   },
   "outputs": [],
   "source": [
    "def timeseries_to_supervised(data, lag=1):\n",
    "    \"\"\"Frame a sequence data into a supervised learning problem, i.e., time sequence -> (X, y)\"\"\"\n",
    "    df = DataFrame(data)               # DataFrame is a pandas class\n",
    "    columns = [df.shift(i) for i in range(1, lag+1)]   # shift() pushed dataframe or a column vector downwards by i spaces\n",
    "    columns.append(df)      # append the original as the output y onto the last column\n",
    "    df = concat(columns, axis=1)\n",
    "    df.fillna(0, inplace=True)   # turn NaN to 0\n",
    "    return df"
   ]
  },
  {
   "cell_type": "code",
   "execution_count": 7,
   "metadata": {
    "_uuid": "6a481e83c0e6cc8f57b5dd1940abaefa2084cc8b"
   },
   "outputs": [
    {
     "name": "stdout",
     "output_type": "stream",
     "text": [
      "        0       0       0       0     0\n",
      "0     0.0     0.0     0.0     0.0  1575\n",
      "1  1575.0     0.0     0.0     0.0  1629\n",
      "2  1629.0  1575.0     0.0     0.0  1618\n",
      "3  1618.0  1629.0  1575.0     0.0  1650\n",
      "4  1650.0  1618.0  1629.0  1575.0  1525\n"
     ]
    }
   ],
   "source": [
    "X = series.values\n",
    "lags = 4\n",
    "supervised = timeseries_to_supervised(X, lag = lags)\n",
    "print(supervised.head())"
   ]
  },
  {
   "cell_type": "code",
   "execution_count": 8,
   "metadata": {
    "_uuid": "49449c083b6f5f2ea15bacc5789a5c32b8951ac3",
    "collapsed": true
   },
   "outputs": [],
   "source": [
    "# create a differenced series\n",
    "def difference(dataset, interval=1):\n",
    "    diff = list()\n",
    "    for i in range(interval, len(dataset)):\n",
    "        value = dataset[i] - dataset[i - interval]\n",
    "        diff.append(value)\n",
    "    \n",
    "    # pandas.Series() turns a list like [-120.1, 37.2, ...] to a time series\n",
    "    return Series(diff)"
   ]
  },
  {
   "cell_type": "code",
   "execution_count": 9,
   "metadata": {
    "_uuid": "dfe1a3a2eba96de54eef4d14785e011d67c1bebb",
    "collapsed": true
   },
   "outputs": [],
   "source": [
    "# invert differenced value\n",
    "def inverse_difference(history, diff, interval=1):\n",
    "    return diff + history[-interval]"
   ]
  },
  {
   "cell_type": "code",
   "execution_count": 10,
   "metadata": {
    "_uuid": "89f8568aecc2bae80fb2a0d11c4b7a882d49fc28"
   },
   "outputs": [
    {
     "name": "stdout",
     "output_type": "stream",
     "text": [
      "differenced:\n",
      "0     54\n",
      "1    -11\n",
      "2     32\n",
      "3   -125\n",
      "4    -62\n",
      "dtype: int64\n",
      "\n",
      "\n",
      "Inverted back:\n",
      "0    1629\n",
      "1    1618\n",
      "2    1650\n",
      "3    1525\n",
      "4    1463\n",
      "dtype: int64\n"
     ]
    }
   ],
   "source": [
    "differenced = difference(series, interval=1)\n",
    "print(\"differenced:\")\n",
    "print(differenced.head())\n",
    "\n",
    "# invert transform\n",
    "inverted = list()\n",
    "for i in range(len(differenced)):\n",
    "    value = inverse_difference(series, differenced[i], len(series)-i)\n",
    "    inverted.append(value)\n",
    "inverted = Series(inverted)\n",
    "print(\"\\n\")\n",
    "print(\"Inverted back:\")\n",
    "print(inverted.head())"
   ]
  },
  {
   "cell_type": "code",
   "execution_count": 11,
   "metadata": {
    "_uuid": "12553ed64f41ebdcba621b5964acd66caf7042cf",
    "collapsed": true
   },
   "outputs": [],
   "source": [
    "def diff(dataset, interval=1):\n",
    "    \"\"\"My implementation of diff() function, avoiding using \"for\" loop. \"\"\"\n",
    "    history = dataset[0:-interval]\n",
    "    new_output = dataset[interval:,]\n",
    "    return new_output - list(history)"
   ]
  },
  {
   "cell_type": "code",
   "execution_count": 12,
   "metadata": {
    "_uuid": "aa62e71b98e913672fde784cdb1c4b9aea1638c6",
    "collapsed": true
   },
   "outputs": [],
   "source": [
    "# invert differenced value\n",
    "def inverse_diff(original, diff, interval=1):\n",
    "    history = original[-interval]\n",
    "#    print(\"History\")\n",
    "#    print(history.head())\n",
    "    return diff + history"
   ]
  },
  {
   "cell_type": "code",
   "execution_count": 13,
   "metadata": {
    "_uuid": "2b3020f0c04d3ea830d51186eeb770395b589fe6"
   },
   "outputs": [
    {
     "name": "stdout",
     "output_type": "stream",
     "text": [
      "date_plus\n",
      "2014-11-01     54\n",
      "2015-01-01    -11\n",
      "2015-02-01     32\n",
      "2015-03-01   -125\n",
      "2015-04-01    -62\n",
      "Name: modal_price, dtype: int64\n"
     ]
    }
   ],
   "source": [
    "differenced = diff(series, 1)\n",
    "print(differenced[0:5])"
   ]
  },
  {
   "cell_type": "code",
   "execution_count": 14,
   "metadata": {
    "_uuid": "a44cb4d43e8e2c7c12f3b4b425eb75b1f03368ca",
    "collapsed": true
   },
   "outputs": [],
   "source": [
    "inverted = inverse_diff(series, differenced, 1)"
   ]
  },
  {
   "cell_type": "code",
   "execution_count": 15,
   "metadata": {
    "_uuid": "25d65c7d23722d9d8858e717a1fb26ae80276075"
   },
   "outputs": [
    {
     "name": "stdout",
     "output_type": "stream",
     "text": [
      "series:\n",
      "date_plus\n",
      "2014-09-01    1575\n",
      "2014-11-01    1629\n",
      "2015-01-01    1618\n",
      "2015-02-01    1650\n",
      "2015-03-01    1525\n",
      "Name: modal_price, dtype: int64\n",
      "\n",
      "Diff:\n",
      "date_plus\n",
      "2014-11-01     54\n",
      "2015-01-01    -11\n",
      "2015-02-01     32\n",
      "2015-03-01   -125\n",
      "2015-04-01    -62\n",
      "Name: modal_price, dtype: int64\n",
      "\n",
      "Inverted back:\n",
      "date_plus\n",
      "2014-11-01    1469\n",
      "2015-01-01    1404\n",
      "2015-02-01    1447\n",
      "2015-03-01    1290\n",
      "2015-04-01    1353\n",
      "Name: modal_price, dtype: int64\n"
     ]
    }
   ],
   "source": [
    "print(\"series:\")\n",
    "print(series.head())\n",
    "print(\"\\nDiff:\")\n",
    "print(differenced.head())\n",
    "print(\"\\nInverted back:\")\n",
    "\n",
    "print(inverted.head())"
   ]
  },
  {
   "cell_type": "code",
   "execution_count": 16,
   "metadata": {
    "_uuid": "9559a15c54176bf738146ccd5ab9951a06aae956",
    "collapsed": true
   },
   "outputs": [],
   "source": [
    "def dataset_split(dataset, train_ratio):\n",
    "    \"\"\" Split dataset into train and test set by ratio of train_ratio (e.g., 0.7 for 70%). \"\"\"\n",
    "    train_size = int(len(dataset) * train_ratio)\n",
    "    test_size = len(dataset) - train_size\n",
    "    train, test = dataset[0:train_size], dataset[train_size:len(dataset)]\n",
    "    \n",
    "    return train, test\n",
    "\n",
    "def data_scale(dataset, feature_range=(0,1)):\n",
    "    \"\"\"Normalize the dataset to the range of feature_range (e.g., [-1, 1]).\n",
    "       Scaler can also de-normalize the dataset by scaler.inverse_transform(), useful for actual prediction.\n",
    "    \"\"\"\n",
    "    scaler = MinMaxScaler(feature_range)\n",
    "    scaled_data = scaler.fit_transform(dataset)\n",
    "    return scaler, scaled_data\n",
    "\n",
    "def data_inverse_scale(scaler, dataset):\n",
    "    data_array = np.array([dataset])\n",
    "    # print(\"data_array shape:\", data_array.shape)\n",
    "    data_array = data_array.reshape(1, len(data_array))\n",
    "    return scaler.inverse_transform(data_array)"
   ]
  },
  {
   "cell_type": "markdown",
   "metadata": {},
   "source": [
    "### Overview about different lstm networks\n",
    "\n",
    "For LSTM model, the batch_input_shape must be in the form of (batch_size, timesteps, input_dim)\n",
    "\n",
    "X.shape[0] provides the number of samples (rows) which is usually used as batch_size depending on the model style.\n",
    "\n",
    "X.shape[1] provides the number of columns of X, which is usually used as the input_dim depending on the model style.\n",
    "\n",
    "timesteps may or may not be 1.\n",
    "\n",
    "If with_memory=True, then batch_size=1, epochs is used in \"for\" loop\n",
    "\n",
    "If the model is window style, input has multi-dimentions while timesteps is 1. So batch_input_shape = (trainX.shape[0], timesteps = 1, input_dim = trainX.shape[1]\n",
    "\n",
    "If the model is timestep style, then batch_input_size = (trainX.shape[0], timesteps = lags, input_dim = 1).\n",
    "\n",
    "Note that after reshaping from 2D to 3D, .shape[0] and .shape[1] become .shape[1] and .shape[2]."
   ]
  },
  {
   "cell_type": "code",
   "execution_count": 17,
   "metadata": {
    "_uuid": "4402a4e6af87770e6b2400f8679a3ee3173bc224",
    "collapsed": true
   },
   "outputs": [],
   "source": [
    "def fit_lstm(units, trainset, model_style='timestep', with_memory=False, epochs=50): \n",
    "    \n",
    "    X, y = trainset[:, 0:-1], trainset[:, -1]  # the last column is y, the rest belongs to X (which excludes the last column)\n",
    "\n",
    "    samples = X.shape[0]   # number of samples in the training set\n",
    "    \n",
    "    if model_style is 'window':\n",
    "        timesteps = 1\n",
    "        input_dim = X.shape[1]\n",
    "    elif model_style is 'timestep':\n",
    "        timesteps = X.shape[1]\n",
    "        input_dim = 1\n",
    "    \n",
    "    X = X.reshape(samples, timesteps, input_dim)   # turn X from 2D to 3D\n",
    "    \n",
    "    batch_size = 1         # always 1 for time-series models\n",
    "    timesteps = X.shape[1]\n",
    "    input_dim = X.shape[2]\n",
    "    \n",
    "    batch_input_shape=(batch_size, timesteps, input_dim)\n",
    "    \n",
    "    model = Sequential()\n",
    "    \n",
    "    if with_memory is True:\n",
    "        \n",
    "        model.add(LSTM(units, batch_input_shape= batch_input_shape, stateful=True))\n",
    "        # model.add(LSTM(8, batch_input_shape=(batch_size, look_back, 1), stateful=True))\n",
    "\n",
    "        model.add(Dense(10)) \n",
    "        model.add(Dense(1))\n",
    "        \n",
    "        model.compile(loss='mean_squared_error', optimizer='adam')\n",
    "        \n",
    "        for i in range(epochs):\n",
    "            model.fit(X, y, epochs=1, batch_size=batch_size, verbose=2, shuffle=False)\n",
    "            model.reset_states()\n",
    "            \n",
    "    else:\n",
    "        model.add(LSTM(units, batch_input_shape= batch_input_shape))\n",
    "        model.add(Dense(10))\n",
    "        #model.add(Dropout(0.8))\n",
    "        model.add(Dense(1))\n",
    "        model.compile(loss='mean_squared_error', optimizer='adam')\n",
    "        model.fit(X, y, epochs=epochs, batch_size=batch_size, verbose=2) \n",
    "    \n",
    "    return model"
   ]
  },
  {
   "cell_type": "code",
   "execution_count": 18,
   "metadata": {
    "_uuid": "6619efa2c11e21d8f7efdc7149c3187122ae2334",
    "collapsed": true
   },
   "outputs": [],
   "source": [
    "def forecast_lstm(model, data, batch_size=1, model_style='window'):\n",
    "    \"\"\" Making predictions that support two modes: static mode and dynamic mode.\n",
    "        \n",
    "        In static mode, input data has only one row and 2D, so should be reshaped to 3D first by adding batch_size to the 1st dimension.\n",
    "        Output of model.predict has 2D of 1x1 array, and this function returns its value, so takes the value from array by index [0, 0].\n",
    "        \n",
    "        Note that to maintain consistency with dynamic mode (see below), input data includes the last column which sould be split into X\n",
    "        and y (last column) before everything else because dynamic mode requires y (labels) in addition to X but static mode doesn't.\n",
    "        \n",
    "        In dynamic mode, input data has multiple rows and the model will be \"fit\" over input data again except its last row.\n",
    "        Then predict is made over the last row.\n",
    "    \"\"\"\n",
    "    X, y = data[:, 0:-1], data[:, -1]\n",
    "    \n",
    "    rows, cols = X.shape     # no matter what mode, input data has 2D with 1 or multiple rows\n",
    "    # print('rows=%d, cols=%d' % (rows, cols))\n",
    "    \n",
    "    if model_style is 'window':\n",
    "        timesteps = 1\n",
    "        input_dim = cols\n",
    "    elif model_style is 'timestep':\n",
    "        timesteps = cols\n",
    "        input_dim = 1\n",
    "        \n",
    "    X = X.reshape(batch_size, timesteps, input_dim)   # trun 2D input data to 3D that is required by LSTM model\n",
    "\n",
    "    predict_data = model.predict(X, batch_size=batch_size)\n",
    "    ret_value = predict_data[0, 0]       # get the value from 1x1 array predict_data\n",
    "    \n",
    "    return ret_value"
   ]
  },
  {
   "cell_type": "code",
   "execution_count": 19,
   "metadata": {
    "_uuid": "a6a5a6e8be5aaa6fc632d2cc8c6432e79ca54190",
    "collapsed": true
   },
   "outputs": [],
   "source": [
    "raw_values = series.values"
   ]
  },
  {
   "cell_type": "code",
   "execution_count": 20,
   "metadata": {
    "_uuid": "fc9d046dc7d2fb1e57c3def59e4f27e2d99759c3"
   },
   "outputs": [
    {
     "name": "stdout",
     "output_type": "stream",
     "text": [
      "Shape of dataset: (22,)\n",
      "5 samples of dataset: [1575 1629 1618 1650 1525]\n"
     ]
    }
   ],
   "source": [
    "print(\"Shape of dataset:\", raw_values.shape)\n",
    "print(\"5 samples of dataset:\", raw_values[0:5])"
   ]
  },
  {
   "cell_type": "code",
   "execution_count": 21,
   "metadata": {
    "_uuid": "9b9a43096c5046645ebc72c4809c4482ac3eaf38"
   },
   "outputs": [
    {
     "name": "stdout",
     "output_type": "stream",
     "text": [
      "0     54\n",
      "1    -11\n",
      "2     32\n",
      "3   -125\n",
      "4    -62\n",
      "dtype: int64\n"
     ]
    }
   ],
   "source": [
    "diff_values = difference(raw_values, interval=1)\n",
    "print(diff_values[0:5])"
   ]
  },
  {
   "cell_type": "code",
   "execution_count": 22,
   "metadata": {
    "_uuid": "c1536fe50154f9bb7220d63184102fb9d84a3686"
   },
   "outputs": [
    {
     "name": "stdout",
     "output_type": "stream",
     "text": [
      "[  54  -11   32 -125  -62]\n"
     ]
    }
   ],
   "source": [
    "diff_values = diff(raw_values, interval=1)\n",
    "print(diff_values[0:5])"
   ]
  },
  {
   "cell_type": "code",
   "execution_count": 23,
   "metadata": {
    "_uuid": "95366663b2a9818599f3d664db585f237d01700b"
   },
   "outputs": [
    {
     "name": "stdout",
     "output_type": "stream",
     "text": [
      "[1469 1404 1447 1290 1353]\n"
     ]
    }
   ],
   "source": [
    "inv_diff = inverse_diff(raw_values, diff_values, interval=1)\n",
    "print(inv_diff[0:5])"
   ]
  },
  {
   "cell_type": "code",
   "execution_count": 24,
   "metadata": {
    "_uuid": "74def1725df161df2616669ac24bf57b92566f9e"
   },
   "outputs": [
    {
     "name": "stdout",
     "output_type": "stream",
     "text": [
      "(21, 1)\n"
     ]
    }
   ],
   "source": [
    "diff_values = diff_values.reshape(-1, 1)\n",
    "print(diff_values.shape)\n",
    "scaler, data_scaled = data_scale(diff_values, feature_range=(-1,1))"
   ]
  },
  {
   "cell_type": "code",
   "execution_count": 25,
   "metadata": {
    "_uuid": "6c0780969f1069acb389a28797c65847e1fd69e3",
    "collapsed": true
   },
   "outputs": [],
   "source": [
    "lags = 1\n",
    "supervised_dataframe = timeseries_to_supervised(data_scaled, lag=lags)"
   ]
  },
  {
   "cell_type": "code",
   "execution_count": 26,
   "metadata": {
    "_uuid": "374a4a84e382369d4c3a362c460aafcd9d952313",
    "collapsed": true
   },
   "outputs": [],
   "source": [
    "supervised_data = supervised_dataframe.values"
   ]
  },
  {
   "cell_type": "code",
   "execution_count": 27,
   "metadata": {
    "_uuid": "713d198041f99d5e0a09b7ba2345a03bd6c43d6c",
    "collapsed": true
   },
   "outputs": [],
   "source": [
    "train, test = dataset_split(supervised_data, train_ratio=0.67)"
   ]
  },
  {
   "cell_type": "markdown",
   "metadata": {},
   "source": [
    "### LSTM Model Timestep and no memory"
   ]
  },
  {
   "cell_type": "code",
   "execution_count": 28,
   "metadata": {
    "_uuid": "8fb56469c0c7f55b8a78f560ef0ec521a063209e"
   },
   "outputs": [
    {
     "name": "stdout",
     "output_type": "stream",
     "text": [
      "Epoch 1/100\n",
      " - 1s - loss: 0.1832\n",
      "Epoch 2/100\n",
      " - 0s - loss: 0.1658\n",
      "Epoch 3/100\n",
      " - 0s - loss: 0.1474\n",
      "Epoch 4/100\n",
      " - 0s - loss: 0.1402\n",
      "Epoch 5/100\n",
      " - 0s - loss: 0.1336\n",
      "Epoch 6/100\n",
      " - 0s - loss: 0.1291\n",
      "Epoch 7/100\n",
      " - 0s - loss: 0.1267\n",
      "Epoch 8/100\n",
      " - 0s - loss: 0.1255\n",
      "Epoch 9/100\n",
      " - 0s - loss: 0.1245\n",
      "Epoch 10/100\n",
      " - 0s - loss: 0.1264\n",
      "Epoch 11/100\n",
      " - 0s - loss: 0.1252\n",
      "Epoch 12/100\n",
      " - 0s - loss: 0.1234\n",
      "Epoch 13/100\n",
      " - 0s - loss: 0.1219\n",
      "Epoch 14/100\n",
      " - 0s - loss: 0.1211\n",
      "Epoch 15/100\n",
      " - 0s - loss: 0.1216\n",
      "Epoch 16/100\n",
      " - 0s - loss: 0.1211\n",
      "Epoch 17/100\n",
      " - 0s - loss: 0.1218\n",
      "Epoch 18/100\n",
      " - 0s - loss: 0.1195\n",
      "Epoch 19/100\n",
      " - 0s - loss: 0.1192\n",
      "Epoch 20/100\n",
      " - 0s - loss: 0.1193\n",
      "Epoch 21/100\n",
      " - 0s - loss: 0.1203\n",
      "Epoch 22/100\n",
      " - 0s - loss: 0.1196\n",
      "Epoch 23/100\n",
      " - 0s - loss: 0.1186\n",
      "Epoch 24/100\n",
      " - 0s - loss: 0.1179\n",
      "Epoch 25/100\n",
      " - 0s - loss: 0.1179\n",
      "Epoch 26/100\n",
      " - 0s - loss: 0.1181\n",
      "Epoch 27/100\n",
      " - 0s - loss: 0.1188\n",
      "Epoch 28/100\n",
      " - 0s - loss: 0.1188\n",
      "Epoch 29/100\n",
      " - 0s - loss: 0.1177\n",
      "Epoch 30/100\n",
      " - 0s - loss: 0.1187\n",
      "Epoch 31/100\n",
      " - 0s - loss: 0.1174\n",
      "Epoch 32/100\n",
      " - 0s - loss: 0.1171\n",
      "Epoch 33/100\n",
      " - 0s - loss: 0.1186\n",
      "Epoch 34/100\n",
      " - 0s - loss: 0.1170\n",
      "Epoch 35/100\n",
      " - 0s - loss: 0.1175\n",
      "Epoch 36/100\n",
      " - 0s - loss: 0.1173\n",
      "Epoch 37/100\n",
      " - 0s - loss: 0.1186\n",
      "Epoch 38/100\n",
      " - 0s - loss: 0.1187\n",
      "Epoch 39/100\n",
      " - 0s - loss: 0.1172\n",
      "Epoch 40/100\n",
      " - 0s - loss: 0.1166\n",
      "Epoch 41/100\n",
      " - 0s - loss: 0.1175\n",
      "Epoch 42/100\n",
      " - 0s - loss: 0.1175\n",
      "Epoch 43/100\n",
      " - 0s - loss: 0.1179\n",
      "Epoch 44/100\n",
      " - 0s - loss: 0.1166\n",
      "Epoch 45/100\n",
      " - 0s - loss: 0.1168\n",
      "Epoch 46/100\n",
      " - 0s - loss: 0.1167\n",
      "Epoch 47/100\n",
      " - 0s - loss: 0.1172\n",
      "Epoch 48/100\n",
      " - 0s - loss: 0.1174\n",
      "Epoch 49/100\n",
      " - 0s - loss: 0.1171\n",
      "Epoch 50/100\n",
      " - 0s - loss: 0.1166\n",
      "Epoch 51/100\n",
      " - 0s - loss: 0.1169\n",
      "Epoch 52/100\n",
      " - 0s - loss: 0.1165\n",
      "Epoch 53/100\n",
      " - 0s - loss: 0.1168\n",
      "Epoch 54/100\n",
      " - 0s - loss: 0.1179\n",
      "Epoch 55/100\n",
      " - 0s - loss: 0.1161\n",
      "Epoch 56/100\n",
      " - 0s - loss: 0.1170\n",
      "Epoch 57/100\n",
      " - 0s - loss: 0.1174\n",
      "Epoch 58/100\n",
      " - 0s - loss: 0.1165\n",
      "Epoch 59/100\n",
      " - 0s - loss: 0.1166\n",
      "Epoch 60/100\n",
      " - 0s - loss: 0.1165\n",
      "Epoch 61/100\n",
      " - 0s - loss: 0.1171\n",
      "Epoch 62/100\n",
      " - 0s - loss: 0.1169\n",
      "Epoch 63/100\n",
      " - 0s - loss: 0.1163\n",
      "Epoch 64/100\n",
      " - 0s - loss: 0.1164\n",
      "Epoch 65/100\n",
      " - 0s - loss: 0.1172\n",
      "Epoch 66/100\n",
      " - 0s - loss: 0.1164\n",
      "Epoch 67/100\n",
      " - 0s - loss: 0.1170\n",
      "Epoch 68/100\n",
      " - 0s - loss: 0.1163\n",
      "Epoch 69/100\n",
      " - 0s - loss: 0.1172\n",
      "Epoch 70/100\n",
      " - 0s - loss: 0.1171\n",
      "Epoch 71/100\n",
      " - 0s - loss: 0.1168\n",
      "Epoch 72/100\n",
      " - 0s - loss: 0.1163\n",
      "Epoch 73/100\n",
      " - 0s - loss: 0.1176\n",
      "Epoch 74/100\n",
      " - 0s - loss: 0.1186\n",
      "Epoch 75/100\n",
      " - 0s - loss: 0.1164\n",
      "Epoch 76/100\n",
      " - 0s - loss: 0.1164\n",
      "Epoch 77/100\n",
      " - 0s - loss: 0.1166\n",
      "Epoch 78/100\n",
      " - 0s - loss: 0.1177\n",
      "Epoch 79/100\n",
      " - 0s - loss: 0.1167\n",
      "Epoch 80/100\n",
      " - 0s - loss: 0.1168\n",
      "Epoch 81/100\n",
      " - 0s - loss: 0.1181\n",
      "Epoch 82/100\n",
      " - 0s - loss: 0.1172\n",
      "Epoch 83/100\n",
      " - 0s - loss: 0.1164\n",
      "Epoch 84/100\n",
      " - 0s - loss: 0.1162\n",
      "Epoch 85/100\n",
      " - 0s - loss: 0.1165\n",
      "Epoch 86/100\n",
      " - 0s - loss: 0.1176\n",
      "Epoch 87/100\n",
      " - 0s - loss: 0.1177\n",
      "Epoch 88/100\n",
      " - 0s - loss: 0.1163\n",
      "Epoch 89/100\n",
      " - 0s - loss: 0.1161\n",
      "Epoch 90/100\n",
      " - 0s - loss: 0.1173\n",
      "Epoch 91/100\n",
      " - 0s - loss: 0.1173\n",
      "Epoch 92/100\n",
      " - 0s - loss: 0.1160\n",
      "Epoch 93/100\n",
      " - 0s - loss: 0.1164\n",
      "Epoch 94/100\n",
      " - 0s - loss: 0.1163\n",
      "Epoch 95/100\n",
      " - 0s - loss: 0.1162\n",
      "Epoch 96/100\n",
      " - 0s - loss: 0.1184\n",
      "Epoch 97/100\n",
      " - 0s - loss: 0.1166\n",
      "Epoch 98/100\n",
      " - 0s - loss: 0.1169\n",
      "Epoch 99/100\n",
      " - 0s - loss: 0.1173\n",
      "Epoch 100/100\n",
      " - 0s - loss: 0.1169\n"
     ]
    }
   ],
   "source": [
    "units = 8\n",
    "epochs = 100\n",
    "model = fit_lstm(units, train, model_style='timestep', with_memory=False, epochs=epochs)"
   ]
  },
  {
   "cell_type": "code",
   "execution_count": 30,
   "metadata": {
    "_uuid": "5bb9685fb390faab1dc9cd5ff91975d541c0edab"
   },
   "outputs": [
    {
     "name": "stdout",
     "output_type": "stream",
     "text": [
      "Month=1, Predicted=1685.55, Expected=1699.00\n",
      "Month=2, Predicted=1783.84, Expected=1800.00\n",
      "Month=3, Predicted=1863.97, Expected=1875.00\n",
      "Month=4, Predicted=1917.71, Expected=1923.00\n",
      "Month=5, Predicted=1956.39, Expected=1959.00\n",
      "Month=6, Predicted=1822.34, Expected=1757.00\n",
      "Month=7, Predicted=1742.02, Expected=1729.00\n"
     ]
    }
   ],
   "source": [
    "# walk-forward validation on the test data\n",
    "predictions = list()\n",
    "expected_list = list()\n",
    "for i in range(len(test)):\n",
    "    # make one-step forecast\n",
    "\n",
    "    data = test[i]\n",
    "    data = data.reshape(1, len(data))    # turn 1D to 2D\n",
    "    predicted_value = forecast_lstm(model, data, batch_size=1, model_style='timestep')\n",
    "    \n",
    "    #print(\"predicted_value:\", predicted_value)\n",
    "    # invert scaling\n",
    "    predicted_value = data_inverse_scale(scaler, predicted_value)\n",
    "    #print(\"inverse-scaled predicted value:\", predicted_value[0, 0])\n",
    "    \n",
    "    # invert differencing\n",
    "    predicted_values = inverse_diff(raw_values, predicted_value[0, 0], interval=len(test)+1-i)\n",
    "    #print(\"inverse-diff predicted value: \", predicted_values)\n",
    "\n",
    "    # store forecast\n",
    "    predictions.append(predicted_values)\n",
    "    expected = raw_values[len(train)+i]\n",
    "    expected_list.append(expected)\n",
    "    #print(\"expected:\", expected)\n",
    "    print('Month=%d, Predicted=%.2f, Expected=%.2f' % (i+1, predicted_values, expected))"
   ]
  },
  {
   "cell_type": "code",
   "execution_count": 31,
   "metadata": {
    "_uuid": "98c81b13817920098061e37eaf04e7571d2f2773"
   },
   "outputs": [
    {
     "name": "stdout",
     "output_type": "stream",
     "text": [
      "Test RMSE: 26.827\n"
     ]
    }
   ],
   "source": [
    "# report performance\n",
    "rmse = sqrt(mean_squared_error(expected_list, predictions))\n",
    "print('Test RMSE: %.3f' % rmse)"
   ]
  },
  {
   "cell_type": "code",
   "execution_count": 32,
   "metadata": {
    "_uuid": "e363acec877c7915f31145c1e7e0f24bfb34ed88"
   },
   "outputs": [
    {
     "data": {
      "image/png": "[encoded data removed]",
      "text/plain": [
       "<Figure size 432x288 with 1 Axes>"
      ]
     },
     "metadata": {
      "needs_background": "light"
     },
     "output_type": "display_data"
    }
   ],
   "source": [
    "# line plot of observed vs predicted\n",
    "plt.plot(expected_list, label='Observed', color='#006699')\n",
    "plt.plot(predictions, label='Prediction', color='#ff0066')\n",
    "plt.legend(loc='best');\n",
    "plt.show()"
   ]
  },
  {
   "cell_type": "markdown",
   "metadata": {},
   "source": [
    "### LSTM Window with memory"
   ]
  },
  {
   "cell_type": "code",
   "execution_count": 29,
   "metadata": {
    "_uuid": "8d168e2f1317dfc40dde5cea6ed8c6d34eb3559c"
   },
   "outputs": [
    {
     "name": "stdout",
     "output_type": "stream",
     "text": [
      "Epoch 1/1\n",
      " - 1s - loss: 0.1906\n",
      "Epoch 1/1\n",
      " - 0s - loss: 0.1611\n",
      "Epoch 1/1\n",
      " - 0s - loss: 0.1431\n",
      "Epoch 1/1\n",
      " - 0s - loss: 0.1335\n",
      "Epoch 1/1\n",
      " - 0s - loss: 0.1288\n",
      "Epoch 1/1\n",
      " - 0s - loss: 0.1265\n",
      "Epoch 1/1\n",
      " - 0s - loss: 0.1254\n",
      "Epoch 1/1\n",
      " - 0s - loss: 0.1246\n",
      "Epoch 1/1\n",
      " - 0s - loss: 0.1240\n",
      "Epoch 1/1\n",
      " - 0s - loss: 0.1234\n",
      "Epoch 1/1\n",
      " - 0s - loss: 0.1228\n",
      "Epoch 1/1\n",
      " - 0s - loss: 0.1223\n",
      "Epoch 1/1\n",
      " - 0s - loss: 0.1218\n",
      "Epoch 1/1\n",
      " - 0s - loss: 0.1213\n",
      "Epoch 1/1\n",
      " - 0s - loss: 0.1208\n",
      "Epoch 1/1\n",
      " - 0s - loss: 0.1203\n",
      "Epoch 1/1\n",
      " - 0s - loss: 0.1199\n",
      "Epoch 1/1\n",
      " - 0s - loss: 0.1195\n",
      "Epoch 1/1\n",
      " - 0s - loss: 0.1191\n",
      "Epoch 1/1\n",
      " - 0s - loss: 0.1187\n",
      "Epoch 1/1\n",
      " - 0s - loss: 0.1183\n",
      "Epoch 1/1\n",
      " - 0s - loss: 0.1179\n",
      "Epoch 1/1\n",
      " - 0s - loss: 0.1175\n",
      "Epoch 1/1\n",
      " - 0s - loss: 0.1172\n",
      "Epoch 1/1\n",
      " - 0s - loss: 0.1169\n",
      "Epoch 1/1\n",
      " - 0s - loss: 0.1165\n",
      "Epoch 1/1\n",
      " - 0s - loss: 0.1162\n",
      "Epoch 1/1\n",
      " - 0s - loss: 0.1160\n",
      "Epoch 1/1\n",
      " - 0s - loss: 0.1157\n",
      "Epoch 1/1\n",
      " - 0s - loss: 0.1154\n",
      "Epoch 1/1\n",
      " - 0s - loss: 0.1152\n",
      "Epoch 1/1\n",
      " - 0s - loss: 0.1149\n",
      "Epoch 1/1\n",
      " - 0s - loss: 0.1147\n",
      "Epoch 1/1\n",
      " - 0s - loss: 0.1145\n",
      "Epoch 1/1\n",
      " - 0s - loss: 0.1143\n",
      "Epoch 1/1\n",
      " - 0s - loss: 0.1141\n",
      "Epoch 1/1\n",
      " - 0s - loss: 0.1139\n",
      "Epoch 1/1\n",
      " - 0s - loss: 0.1137\n",
      "Epoch 1/1\n",
      " - 0s - loss: 0.1136\n",
      "Epoch 1/1\n",
      " - 0s - loss: 0.1134\n",
      "Epoch 1/1\n",
      " - 0s - loss: 0.1133\n",
      "Epoch 1/1\n",
      " - 0s - loss: 0.1131\n",
      "Epoch 1/1\n",
      " - 0s - loss: 0.1130\n",
      "Epoch 1/1\n",
      " - 0s - loss: 0.1129\n",
      "Epoch 1/1\n",
      " - 0s - loss: 0.1128\n",
      "Epoch 1/1\n",
      " - 0s - loss: 0.1126\n",
      "Epoch 1/1\n",
      " - 0s - loss: 0.1125\n",
      "Epoch 1/1\n",
      " - 0s - loss: 0.1124\n",
      "Epoch 1/1\n",
      " - 0s - loss: 0.1123\n",
      "Epoch 1/1\n",
      " - 0s - loss: 0.1122\n",
      "Epoch 1/1\n",
      " - 0s - loss: 0.1121\n",
      "Epoch 1/1\n",
      " - 0s - loss: 0.1120\n",
      "Epoch 1/1\n",
      " - 0s - loss: 0.1119\n",
      "Epoch 1/1\n",
      " - 0s - loss: 0.1119\n",
      "Epoch 1/1\n",
      " - 0s - loss: 0.1118\n",
      "Epoch 1/1\n",
      " - 0s - loss: 0.1117\n",
      "Epoch 1/1\n",
      " - 0s - loss: 0.1116\n",
      "Epoch 1/1\n",
      " - 0s - loss: 0.1115\n",
      "Epoch 1/1\n",
      " - 0s - loss: 0.1114\n",
      "Epoch 1/1\n",
      " - 0s - loss: 0.1114\n",
      "Epoch 1/1\n",
      " - 0s - loss: 0.1113\n",
      "Epoch 1/1\n",
      " - 0s - loss: 0.1112\n",
      "Epoch 1/1\n",
      " - 0s - loss: 0.1111\n",
      "Epoch 1/1\n",
      " - 0s - loss: 0.1110\n",
      "Epoch 1/1\n",
      " - 0s - loss: 0.1110\n",
      "Epoch 1/1\n",
      " - 0s - loss: 0.1109\n",
      "Epoch 1/1\n",
      " - 0s - loss: 0.1108\n",
      "Epoch 1/1\n",
      " - 0s - loss: 0.1107\n",
      "Epoch 1/1\n",
      " - 0s - loss: 0.1107\n",
      "Epoch 1/1\n",
      " - 0s - loss: 0.1106\n",
      "Epoch 1/1\n",
      " - 0s - loss: 0.1105\n",
      "Epoch 1/1\n",
      " - 0s - loss: 0.1104\n",
      "Epoch 1/1\n",
      " - 0s - loss: 0.1103\n",
      "Epoch 1/1\n",
      " - 0s - loss: 0.1103\n",
      "Epoch 1/1\n",
      " - 0s - loss: 0.1102\n",
      "Epoch 1/1\n",
      " - 0s - loss: 0.1101\n",
      "Epoch 1/1\n",
      " - 0s - loss: 0.1100\n",
      "Epoch 1/1\n",
      " - 0s - loss: 0.1100\n",
      "Epoch 1/1\n",
      " - 0s - loss: 0.1099\n",
      "Epoch 1/1\n",
      " - 0s - loss: 0.1098\n",
      "Epoch 1/1\n",
      " - 0s - loss: 0.1097\n",
      "Epoch 1/1\n",
      " - 0s - loss: 0.1096\n",
      "Epoch 1/1\n",
      " - 0s - loss: 0.1095\n",
      "Epoch 1/1\n",
      " - 0s - loss: 0.1095\n",
      "Epoch 1/1\n",
      " - 0s - loss: 0.1094\n",
      "Epoch 1/1\n",
      " - 0s - loss: 0.1093\n",
      "Epoch 1/1\n",
      " - 0s - loss: 0.1092\n",
      "Epoch 1/1\n",
      " - 0s - loss: 0.1091\n",
      "Epoch 1/1\n",
      " - 0s - loss: 0.1090\n",
      "Epoch 1/1\n",
      " - 0s - loss: 0.1090\n",
      "Epoch 1/1\n",
      " - 0s - loss: 0.1089\n",
      "Epoch 1/1\n",
      " - 0s - loss: 0.1088\n",
      "Epoch 1/1\n",
      " - 0s - loss: 0.1087\n",
      "Epoch 1/1\n",
      " - 0s - loss: 0.1086\n",
      "Epoch 1/1\n",
      " - 0s - loss: 0.1085\n",
      "Epoch 1/1\n",
      " - 0s - loss: 0.1084\n",
      "Epoch 1/1\n",
      " - 0s - loss: 0.1084\n",
      "Epoch 1/1\n",
      " - 0s - loss: 0.1083\n",
      "Epoch 1/1\n",
      " - 0s - loss: 0.1082\n",
      "Epoch 1/1\n",
      " - 0s - loss: 0.1081\n"
     ]
    }
   ],
   "source": [
    "model_ts_mem = fit_lstm(units, train, model_style='window', with_memory=True, epochs=epochs)"
   ]
  },
  {
   "cell_type": "code",
   "execution_count": 33,
   "metadata": {
    "_uuid": "6271a0ceb4f53f613d0ffd6a958444ba55892482"
   },
   "outputs": [
    {
     "name": "stdout",
     "output_type": "stream",
     "text": [
      "Month=1, Predicted=1688.23, Expected=1699.00\n",
      "Month=2, Predicted=1758.39, Expected=1800.00\n",
      "Month=3, Predicted=1811.38, Expected=1875.00\n",
      "Month=4, Predicted=1846.53, Expected=1923.00\n",
      "Month=5, Predicted=1873.66, Expected=1959.00\n",
      "Month=6, Predicted=1737.40, Expected=1757.00\n",
      "Month=7, Predicted=1716.61, Expected=1729.00\n"
     ]
    }
   ],
   "source": [
    "# walk-forward validation on the test data\n",
    "predictions = list()\n",
    "expected_list = list()\n",
    "for i in range(len(test)):\n",
    "    # make one-step forecast\n",
    "\n",
    "    data = test[i]\n",
    "    data = data.reshape(1, len(data))    # turn 1D to 2D\n",
    "    predicted_value = forecast_lstm(model_ts_mem, data, batch_size=1, model_style='window')\n",
    "    \n",
    "    #print(\"predicted_value:\", predicted_value)\n",
    "    # invert scaling\n",
    "    predicted_value = data_inverse_scale(scaler, predicted_value)\n",
    "    #print(\"inverse-scaled predicted value:\", predicted_value[0, 0])\n",
    "    \n",
    "    # invert differencing\n",
    "    predicted_values = inverse_diff(raw_values, predicted_value[0, 0], interval=len(test)+1-i)\n",
    "    #print(\"inverse-diff predicted value: \", predicted_values)\n",
    "\n",
    "    # store forecast\n",
    "    predictions.append(predicted_values)\n",
    "    expected = raw_values[len(train)+i]\n",
    "    expected_list.append(expected)\n",
    "    \n",
    "    #print(\"expected:\", expected)\n",
    "    print('Month=%d, Predicted=%.2f, Expected=%.2f' % (i+1, predicted_values, expected))"
   ]
  },
  {
   "cell_type": "code",
   "execution_count": 34,
   "metadata": {
    "_uuid": "b0dd69a5137c62ff1670b1ef882e116e0470cb59"
   },
   "outputs": [
    {
     "name": "stdout",
     "output_type": "stream",
     "text": [
      "Test RMSE: 52.864\n"
     ]
    }
   ],
   "source": [
    "# report performance\n",
    "rmse = sqrt(mean_squared_error(expected_list, predictions))\n",
    "print('Test RMSE: %.3f' % rmse)"
   ]
  },
  {
   "cell_type": "code",
   "execution_count": 37,
   "metadata": {
    "_uuid": "dddf5b9e780ae87ce063a5696bcfd3d736199742"
   },
   "outputs": [
    {
     "data": {
      "image/png": "[encoded data removed]",
      "text/plain": [
       "<Figure size 432x288 with 1 Axes>"
      ]
     },
     "metadata": {
      "needs_background": "light"
     },
     "output_type": "display_data"
    }
   ],
   "source": [
    "# line plot of observed vs predicted\n",
    "plt.plot(expected_list, label='Observed', color='#006699')\n",
    "plt.plot(predictions, label='Prediction', color='#ff0066')\n",
    "plt.legend(loc='best');\n",
    "plt.show()"
   ]
  },
  {
   "cell_type": "markdown",
   "metadata": {},
   "source": [
    "### LSTM window with no memory"
   ]
  },
  {
   "cell_type": "code",
   "execution_count": 36,
   "metadata": {
    "_uuid": "c94bfa4f94219f2ac5902fab9a6f3f7cc20d786e"
   },
   "outputs": [
    {
     "name": "stdout",
     "output_type": "stream",
     "text": [
      "Epoch 1/100\n",
      " - 1s - loss: 0.1949\n",
      "Epoch 2/100\n",
      " - 0s - loss: 0.1709\n",
      "Epoch 3/100\n",
      " - 0s - loss: 0.1512\n",
      "Epoch 4/100\n",
      " - 0s - loss: 0.1375\n",
      "Epoch 5/100\n",
      " - 0s - loss: 0.1302\n",
      "Epoch 6/100\n",
      " - 0s - loss: 0.1257\n",
      "Epoch 7/100\n",
      " - 0s - loss: 0.1244\n",
      "Epoch 8/100\n",
      " - 0s - loss: 0.1218\n",
      "Epoch 9/100\n",
      " - 0s - loss: 0.1211\n",
      "Epoch 10/100\n",
      " - 0s - loss: 0.1204\n",
      "Epoch 11/100\n",
      " - 0s - loss: 0.1197\n",
      "Epoch 12/100\n",
      " - 0s - loss: 0.1196\n",
      "Epoch 13/100\n",
      " - 0s - loss: 0.1194\n",
      "Epoch 14/100\n",
      " - 0s - loss: 0.1194\n",
      "Epoch 15/100\n",
      " - 0s - loss: 0.1191\n",
      "Epoch 16/100\n",
      " - 0s - loss: 0.1186\n",
      "Epoch 17/100\n",
      " - 0s - loss: 0.1186\n",
      "Epoch 18/100\n",
      " - 0s - loss: 0.1201\n",
      "Epoch 19/100\n",
      " - 0s - loss: 0.1194\n",
      "Epoch 20/100\n",
      " - 0s - loss: 0.1182\n",
      "Epoch 21/100\n",
      " - 0s - loss: 0.1189\n",
      "Epoch 22/100\n",
      " - 0s - loss: 0.1174\n",
      "Epoch 23/100\n",
      " - 0s - loss: 0.1176\n",
      "Epoch 24/100\n",
      " - 0s - loss: 0.1188\n",
      "Epoch 25/100\n",
      " - 0s - loss: 0.1175\n",
      "Epoch 26/100\n",
      " - 0s - loss: 0.1174\n",
      "Epoch 27/100\n",
      " - 0s - loss: 0.1182\n",
      "Epoch 28/100\n",
      " - 0s - loss: 0.1173\n",
      "Epoch 29/100\n",
      " - 0s - loss: 0.1177\n",
      "Epoch 30/100\n",
      " - 0s - loss: 0.1175\n",
      "Epoch 31/100\n",
      " - 0s - loss: 0.1176\n",
      "Epoch 32/100\n",
      " - 0s - loss: 0.1173\n",
      "Epoch 33/100\n",
      " - 0s - loss: 0.1189\n",
      "Epoch 34/100\n",
      " - 0s - loss: 0.1177\n",
      "Epoch 35/100\n",
      " - 0s - loss: 0.1168\n",
      "Epoch 36/100\n",
      " - 0s - loss: 0.1173\n",
      "Epoch 37/100\n",
      " - 0s - loss: 0.1180\n",
      "Epoch 38/100\n",
      " - 0s - loss: 0.1172\n",
      "Epoch 39/100\n",
      " - 0s - loss: 0.1176\n",
      "Epoch 40/100\n",
      " - 0s - loss: 0.1187\n",
      "Epoch 41/100\n",
      " - 0s - loss: 0.1178\n",
      "Epoch 42/100\n",
      " - 0s - loss: 0.1180\n",
      "Epoch 43/100\n",
      " - 0s - loss: 0.1183\n",
      "Epoch 44/100\n",
      " - 0s - loss: 0.1164\n",
      "Epoch 45/100\n",
      " - 0s - loss: 0.1176\n",
      "Epoch 46/100\n",
      " - 0s - loss: 0.1174\n",
      "Epoch 47/100\n",
      " - 0s - loss: 0.1177\n",
      "Epoch 48/100\n",
      " - 0s - loss: 0.1171\n",
      "Epoch 49/100\n",
      " - 0s - loss: 0.1170\n",
      "Epoch 50/100\n",
      " - 0s - loss: 0.1170\n",
      "Epoch 51/100\n",
      " - 0s - loss: 0.1168\n",
      "Epoch 52/100\n",
      " - 0s - loss: 0.1171\n",
      "Epoch 53/100\n",
      " - 0s - loss: 0.1170\n",
      "Epoch 54/100\n",
      " - 0s - loss: 0.1165\n",
      "Epoch 55/100\n",
      " - 0s - loss: 0.1179\n",
      "Epoch 56/100\n",
      " - 0s - loss: 0.1180\n",
      "Epoch 57/100\n",
      " - 0s - loss: 0.1176\n",
      "Epoch 58/100\n",
      " - 0s - loss: 0.1177\n",
      "Epoch 59/100\n",
      " - 0s - loss: 0.1180\n",
      "Epoch 60/100\n",
      " - 0s - loss: 0.1163\n",
      "Epoch 61/100\n",
      " - 0s - loss: 0.1165\n",
      "Epoch 62/100\n",
      " - 0s - loss: 0.1172\n",
      "Epoch 63/100\n",
      " - 0s - loss: 0.1165\n",
      "Epoch 64/100\n",
      " - 0s - loss: 0.1170\n",
      "Epoch 65/100\n",
      " - 0s - loss: 0.1166\n",
      "Epoch 66/100\n",
      " - 0s - loss: 0.1163\n",
      "Epoch 67/100\n",
      " - 0s - loss: 0.1179\n",
      "Epoch 68/100\n",
      " - 0s - loss: 0.1161\n",
      "Epoch 69/100\n",
      " - 0s - loss: 0.1170\n",
      "Epoch 70/100\n",
      " - 0s - loss: 0.1173\n",
      "Epoch 71/100\n",
      " - 0s - loss: 0.1168\n",
      "Epoch 72/100\n",
      " - 0s - loss: 0.1171\n",
      "Epoch 73/100\n",
      " - 0s - loss: 0.1167\n",
      "Epoch 74/100\n",
      " - 0s - loss: 0.1173\n",
      "Epoch 75/100\n",
      " - 0s - loss: 0.1179\n",
      "Epoch 76/100\n",
      " - 0s - loss: 0.1167\n",
      "Epoch 77/100\n",
      " - 0s - loss: 0.1171\n",
      "Epoch 78/100\n",
      " - 0s - loss: 0.1167\n",
      "Epoch 79/100\n",
      " - 0s - loss: 0.1168\n",
      "Epoch 80/100\n",
      " - 0s - loss: 0.1164\n",
      "Epoch 81/100\n",
      " - 0s - loss: 0.1184\n",
      "Epoch 82/100\n",
      " - 0s - loss: 0.1173\n",
      "Epoch 83/100\n",
      " - 0s - loss: 0.1164\n",
      "Epoch 84/100\n",
      " - 0s - loss: 0.1176\n",
      "Epoch 85/100\n",
      " - 0s - loss: 0.1165\n",
      "Epoch 86/100\n",
      " - 0s - loss: 0.1166\n",
      "Epoch 87/100\n",
      " - 0s - loss: 0.1163\n",
      "Epoch 88/100\n",
      " - 0s - loss: 0.1165\n",
      "Epoch 89/100\n",
      " - 0s - loss: 0.1167\n",
      "Epoch 90/100\n",
      " - 0s - loss: 0.1185\n",
      "Epoch 91/100\n",
      " - 0s - loss: 0.1165\n",
      "Epoch 92/100\n",
      " - 0s - loss: 0.1164\n",
      "Epoch 93/100\n",
      " - 0s - loss: 0.1178\n",
      "Epoch 94/100\n",
      " - 0s - loss: 0.1178\n",
      "Epoch 95/100\n",
      " - 0s - loss: 0.1165\n",
      "Epoch 96/100\n",
      " - 0s - loss: 0.1173\n",
      "Epoch 97/100\n",
      " - 0s - loss: 0.1183\n",
      "Epoch 98/100\n",
      " - 0s - loss: 0.1195\n",
      "Epoch 99/100\n",
      " - 0s - loss: 0.1177\n",
      "Epoch 100/100\n",
      " - 0s - loss: 0.1169\n"
     ]
    }
   ],
   "source": [
    "model_ts_no_mem = fit_lstm(units, train, model_style='window', with_memory=False, epochs=epochs)"
   ]
  },
  {
   "cell_type": "code",
   "execution_count": 38,
   "metadata": {
    "_uuid": "d40bb392487bbc75e4baaf0190c268e98fb500bf"
   },
   "outputs": [
    {
     "name": "stdout",
     "output_type": "stream",
     "text": [
      "Month=1, Predicted=1687.73, Expected=1699.00\n",
      "Month=2, Predicted=1785.81, Expected=1800.00\n",
      "Month=3, Predicted=1866.28, Expected=1875.00\n",
      "Month=4, Predicted=1920.19, Expected=1923.00\n",
      "Month=5, Predicted=1958.87, Expected=1959.00\n",
      "Month=6, Predicted=1814.71, Expected=1757.00\n",
      "Month=7, Predicted=1743.78, Expected=1729.00\n"
     ]
    }
   ],
   "source": [
    "# walk-forward validation on the test data\n",
    "predictions = list()\n",
    "expected_list = list()\n",
    "for i in range(len(test)):\n",
    "    # make one-step forecast\n",
    "\n",
    "    data = test[i]\n",
    "    data = data.reshape(1, len(data))    # turn 1D to 2D\n",
    "    predicted_value = forecast_lstm(model_ts_no_mem, data, batch_size=1, model_style='window')\n",
    "    \n",
    "    #print(\"predicted_value:\", predicted_value)\n",
    "    # invert scaling\n",
    "    predicted_value = data_inverse_scale(scaler, predicted_value)\n",
    "    #print(\"inverse-scaled predicted value:\", predicted_value[0, 0])\n",
    "    \n",
    "    # invert differencing\n",
    "    predicted_values = inverse_diff(raw_values, predicted_value[0, 0], interval=len(test)+1-i)\n",
    "    #print(\"inverse-diff predicted value: \", predicted_values)\n",
    "\n",
    "    # store forecast\n",
    "    predictions.append(predicted_values)\n",
    "    expected = raw_values[len(train)+i]\n",
    "    expected_list.append(expected)\n",
    "    \n",
    "    #print(\"expected:\", expected)\n",
    "    print('Month=%d, Predicted=%.2f, Expected=%.2f' % (i+1, predicted_values, expected))"
   ]
  },
  {
   "cell_type": "code",
   "execution_count": 39,
   "metadata": {
    "_uuid": "8fa2d61619b11ee9625cadb91cccf53f782dee45"
   },
   "outputs": [
    {
     "name": "stdout",
     "output_type": "stream",
     "text": [
      "Test RMSE: 23.790\n"
     ]
    }
   ],
   "source": [
    "# report performance\n",
    "rmse = sqrt(mean_squared_error(expected_list, predictions))\n",
    "print('Test RMSE: %.3f' % rmse)"
   ]
  },
  {
   "cell_type": "code",
   "execution_count": 40,
   "metadata": {
    "_uuid": "6287141841f04bf11997b9c7c4fa7c05f86f3c12"
   },
   "outputs": [
    {
     "data": {
      "image/png": "[encoded data removed]",
      "text/plain": [
       "<Figure size 432x288 with 1 Axes>"
      ]
     },
     "metadata": {
      "needs_background": "light"
     },
     "output_type": "display_data"
    }
   ],
   "source": [
    "# line plot of observed vs predicted\n",
    "plt.plot(expected_list, label='Observed', color='#006699')\n",
    "plt.plot(predictions, label='Prediction', color='#ff0066')\n",
    "plt.legend(loc='best');\n",
    "plt.show()"
   ]
  },
  {
   "cell_type": "markdown",
   "metadata": {},
   "source": [
    "### LSTM time step with memory"
   ]
  },
  {
   "cell_type": "code",
   "execution_count": 41,
   "metadata": {
    "_uuid": "18b197d7061d06fd315071cc2afad92c75b333a4"
   },
   "outputs": [
    {
     "name": "stdout",
     "output_type": "stream",
     "text": [
      "Epoch 1/1\n",
      " - 1s - loss: 0.1659\n",
      "Epoch 1/1\n",
      " - 0s - loss: 0.1489\n",
      "Epoch 1/1\n",
      " - 0s - loss: 0.1402\n",
      "Epoch 1/1\n",
      " - 0s - loss: 0.1361\n",
      "Epoch 1/1\n",
      " - 0s - loss: 0.1341\n",
      "Epoch 1/1\n",
      " - 0s - loss: 0.1328\n",
      "Epoch 1/1\n",
      " - 0s - loss: 0.1318\n",
      "Epoch 1/1\n",
      " - 0s - loss: 0.1310\n",
      "Epoch 1/1\n",
      " - 0s - loss: 0.1302\n",
      "Epoch 1/1\n",
      " - 0s - loss: 0.1294\n",
      "Epoch 1/1\n",
      " - 0s - loss: 0.1287\n",
      "Epoch 1/1\n",
      " - 0s - loss: 0.1280\n",
      "Epoch 1/1\n",
      " - 0s - loss: 0.1273\n",
      "Epoch 1/1\n",
      " - 0s - loss: 0.1267\n",
      "Epoch 1/1\n",
      " - 0s - loss: 0.1261\n",
      "Epoch 1/1\n",
      " - 0s - loss: 0.1255\n",
      "Epoch 1/1\n",
      " - 0s - loss: 0.1249\n",
      "Epoch 1/1\n",
      " - 0s - loss: 0.1243\n",
      "Epoch 1/1\n",
      " - 0s - loss: 0.1238\n",
      "Epoch 1/1\n",
      " - 0s - loss: 0.1233\n",
      "Epoch 1/1\n",
      " - 0s - loss: 0.1227\n",
      "Epoch 1/1\n",
      " - 0s - loss: 0.1223\n",
      "Epoch 1/1\n",
      " - 0s - loss: 0.1218\n",
      "Epoch 1/1\n",
      " - 0s - loss: 0.1213\n",
      "Epoch 1/1\n",
      " - 0s - loss: 0.1209\n",
      "Epoch 1/1\n",
      " - 0s - loss: 0.1205\n",
      "Epoch 1/1\n",
      " - 0s - loss: 0.1200\n",
      "Epoch 1/1\n",
      " - 0s - loss: 0.1196\n",
      "Epoch 1/1\n",
      " - 0s - loss: 0.1193\n",
      "Epoch 1/1\n",
      " - 0s - loss: 0.1189\n",
      "Epoch 1/1\n",
      " - 0s - loss: 0.1185\n",
      "Epoch 1/1\n",
      " - 0s - loss: 0.1182\n",
      "Epoch 1/1\n",
      " - 0s - loss: 0.1178\n",
      "Epoch 1/1\n",
      " - 0s - loss: 0.1175\n",
      "Epoch 1/1\n",
      " - 0s - loss: 0.1172\n",
      "Epoch 1/1\n",
      " - 0s - loss: 0.1169\n",
      "Epoch 1/1\n",
      " - 0s - loss: 0.1166\n",
      "Epoch 1/1\n",
      " - 0s - loss: 0.1163\n",
      "Epoch 1/1\n",
      " - 0s - loss: 0.1160\n",
      "Epoch 1/1\n",
      " - 0s - loss: 0.1158\n",
      "Epoch 1/1\n",
      " - 0s - loss: 0.1155\n",
      "Epoch 1/1\n",
      " - 0s - loss: 0.1153\n",
      "Epoch 1/1\n",
      " - 0s - loss: 0.1150\n",
      "Epoch 1/1\n",
      " - 0s - loss: 0.1148\n",
      "Epoch 1/1\n",
      " - 0s - loss: 0.1146\n",
      "Epoch 1/1\n",
      " - 0s - loss: 0.1144\n",
      "Epoch 1/1\n",
      " - 0s - loss: 0.1141\n",
      "Epoch 1/1\n",
      " - 0s - loss: 0.1139\n",
      "Epoch 1/1\n",
      " - 0s - loss: 0.1137\n",
      "Epoch 1/1\n",
      " - 0s - loss: 0.1135\n",
      "Epoch 1/1\n",
      " - 0s - loss: 0.1133\n",
      "Epoch 1/1\n",
      " - 0s - loss: 0.1131\n",
      "Epoch 1/1\n",
      " - 0s - loss: 0.1129\n",
      "Epoch 1/1\n",
      " - 0s - loss: 0.1127\n",
      "Epoch 1/1\n",
      " - 0s - loss: 0.1125\n",
      "Epoch 1/1\n",
      " - 0s - loss: 0.1124\n",
      "Epoch 1/1\n",
      " - 0s - loss: 0.1122\n",
      "Epoch 1/1\n",
      " - 0s - loss: 0.1120\n",
      "Epoch 1/1\n",
      " - 0s - loss: 0.1118\n",
      "Epoch 1/1\n",
      " - 0s - loss: 0.1116\n",
      "Epoch 1/1\n",
      " - 0s - loss: 0.1114\n",
      "Epoch 1/1\n",
      " - 0s - loss: 0.1113\n",
      "Epoch 1/1\n",
      " - 0s - loss: 0.1111\n",
      "Epoch 1/1\n",
      " - 0s - loss: 0.1109\n",
      "Epoch 1/1\n",
      " - 0s - loss: 0.1107\n",
      "Epoch 1/1\n",
      " - 0s - loss: 0.1106\n",
      "Epoch 1/1\n",
      " - 0s - loss: 0.1104\n",
      "Epoch 1/1\n",
      " - 0s - loss: 0.1102\n",
      "Epoch 1/1\n",
      " - 0s - loss: 0.1100\n",
      "Epoch 1/1\n",
      " - 0s - loss: 0.1099\n",
      "Epoch 1/1\n",
      " - 0s - loss: 0.1097\n",
      "Epoch 1/1\n",
      " - 0s - loss: 0.1095\n",
      "Epoch 1/1\n",
      " - 0s - loss: 0.1094\n",
      "Epoch 1/1\n",
      " - 0s - loss: 0.1092\n",
      "Epoch 1/1\n",
      " - 0s - loss: 0.1090\n",
      "Epoch 1/1\n",
      " - 0s - loss: 0.1089\n",
      "Epoch 1/1\n",
      " - 0s - loss: 0.1087\n",
      "Epoch 1/1\n",
      " - 0s - loss: 0.1085\n",
      "Epoch 1/1\n",
      " - 0s - loss: 0.1083\n",
      "Epoch 1/1\n",
      " - 0s - loss: 0.1082\n",
      "Epoch 1/1\n",
      " - 0s - loss: 0.1080\n",
      "Epoch 1/1\n",
      " - 0s - loss: 0.1078\n",
      "Epoch 1/1\n",
      " - 0s - loss: 0.1077\n",
      "Epoch 1/1\n",
      " - 0s - loss: 0.1075\n",
      "Epoch 1/1\n",
      " - 0s - loss: 0.1073\n",
      "Epoch 1/1\n",
      " - 0s - loss: 0.1071\n",
      "Epoch 1/1\n",
      " - 0s - loss: 0.1070\n",
      "Epoch 1/1\n",
      " - 0s - loss: 0.1068\n",
      "Epoch 1/1\n",
      " - 0s - loss: 0.1066\n",
      "Epoch 1/1\n",
      " - 0s - loss: 0.1065\n",
      "Epoch 1/1\n",
      " - 0s - loss: 0.1063\n",
      "Epoch 1/1\n",
      " - 0s - loss: 0.1061\n",
      "Epoch 1/1\n",
      " - 0s - loss: 0.1059\n",
      "Epoch 1/1\n",
      " - 0s - loss: 0.1058\n",
      "Epoch 1/1\n",
      " - 0s - loss: 0.1056\n",
      "Epoch 1/1\n",
      " - 0s - loss: 0.1054\n",
      "Epoch 1/1\n",
      " - 0s - loss: 0.1053\n",
      "Epoch 1/1\n",
      " - 0s - loss: 0.1051\n",
      "Epoch 1/1\n",
      " - 0s - loss: 0.1049\n",
      "Epoch 1/1\n",
      " - 0s - loss: 0.1048\n"
     ]
    }
   ],
   "source": [
    "model_mem = fit_lstm(units, train, model_style='timestep', with_memory=True, epochs=epochs)"
   ]
  },
  {
   "cell_type": "code",
   "execution_count": 42,
   "metadata": {
    "_uuid": "b78e3970d6fccfcc71ffdf2e870722262c447226"
   },
   "outputs": [
    {
     "name": "stdout",
     "output_type": "stream",
     "text": [
      "Month=1, Predicted=1691.65, Expected=1699.00\n",
      "Month=2, Predicted=1760.80, Expected=1800.00\n",
      "Month=3, Predicted=1817.53, Expected=1875.00\n",
      "Month=4, Predicted=1861.19, Expected=1923.00\n",
      "Month=5, Predicted=1899.85, Expected=1959.00\n",
      "Month=6, Predicted=1782.16, Expected=1757.00\n",
      "Month=7, Predicted=1764.74, Expected=1729.00\n"
     ]
    }
   ],
   "source": [
    "# walk-forward validation on the test data\n",
    "predictions = list()\n",
    "expected_list = list()\n",
    "for i in range(len(test)):\n",
    "    # make one-step forecast\n",
    "\n",
    "    data = test[i]\n",
    "    data = data.reshape(1, len(data))    # turn 1D to 2D\n",
    "    predicted_value = forecast_lstm(model_mem, data, batch_size=1, model_style='window')\n",
    "    \n",
    "    #print(\"predicted_value:\", predicted_value)\n",
    "    # invert scaling\n",
    "    predicted_value = data_inverse_scale(scaler, predicted_value)\n",
    "    #print(\"inverse-scaled predicted value:\", predicted_value[0, 0])\n",
    "    \n",
    "    # invert differencing\n",
    "    predicted_values = inverse_diff(raw_values, predicted_value[0, 0], interval=len(test)+1-i)\n",
    "    #print(\"inverse-diff predicted value: \", predicted_values)\n",
    "\n",
    "    # store forecast\n",
    "    predictions.append(predicted_values)\n",
    "    expected = raw_values[len(train)+i]\n",
    "    expected_list.append(expected)\n",
    "    \n",
    "    #print(\"expected:\", expected)\n",
    "    print('Month=%d, Predicted=%.2f, Expected=%.2f' % (i+1, predicted_values, expected))"
   ]
  },
  {
   "cell_type": "code",
   "execution_count": 43,
   "metadata": {
    "_uuid": "6c42de521c15ee0d8c3658b8ab1e0fdf86d789a6"
   },
   "outputs": [
    {
     "name": "stdout",
     "output_type": "stream",
     "text": [
      "Test RMSE: 44.916\n"
     ]
    }
   ],
   "source": [
    "# report performance\n",
    "rmse = sqrt(mean_squared_error(expected_list, predictions))\n",
    "print('Test RMSE: %.3f' % rmse)"
   ]
  },
  {
   "cell_type": "code",
   "execution_count": 44,
   "metadata": {
    "_uuid": "2ca54465ed0d8d5123a47d631c4b0c4f812ded13"
   },
   "outputs": [
    {
     "data": {
      "image/png": "[encoded data removed]",
      "text/plain": [
       "<Figure size 432x288 with 1 Axes>"
      ]
     },
     "metadata": {
      "needs_background": "light"
     },
     "output_type": "display_data"
    }
   ],
   "source": [
    "# line plot of observed vs predicted\n",
    "plt.plot(expected_list, label='Observed', color='#006699')\n",
    "plt.plot(predictions, label='Prediction', color='#ff0066')\n",
    "plt.legend(loc='best');\n",
    "plt.show()"
   ]
  },
  {
   "cell_type": "code",
   "execution_count": null,
   "metadata": {
    "collapsed": true
   },
   "outputs": [],
   "source": []
  },
  {
   "cell_type": "code",
   "execution_count": null,
   "metadata": {
    "_uuid": "291e9fedaa5102f4d1e8594238b8f9ea49816d0d",
    "collapsed": true
   },
   "outputs": [],
   "source": []
  }
 ],
 "metadata": {
  "kernelspec": {
   "display_name": "Python 3",
   "language": "python",
   "name": "python3"
  },
  "language_info": {
   "codemirror_mode": {
    "name": "ipython",
    "version": 3
   },
   "file_extension": ".py",
   "mimetype": "text/x-python",
   "name": "python",
   "nbconvert_exporter": "python",
   "pygments_lexer": "ipython3",
   "version": "3.6.6"
  }
 },
 "nbformat": 4,
 "nbformat_minor": 1
}
